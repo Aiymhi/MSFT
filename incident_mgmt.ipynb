{
 "cells": [
  {
   "cell_type": "code",
   "execution_count": 1,
   "id": "b8f3dba6-7b13-40c0-8e7e-4d3d30165f9f",
   "metadata": {},
   "outputs": [
    {
     "name": "stdout",
     "output_type": "stream",
     "text": [
      "Requirement already satisfied: colorama in c:\\users\\admin\\anaconda3\\lib\\site-packages (0.4.6)Note: you may need to restart the kernel to use updated packages.\n",
      "\n"
     ]
    }
   ],
   "source": [
    "pip install colorama\n"
   ]
  },
  {
   "cell_type": "code",
   "execution_count": 31,
   "id": "0fa76b74-8f55-43dc-9367-dcef7cca6511",
   "metadata": {},
   "outputs": [
    {
     "name": "stderr",
     "output_type": "stream",
     "text": [
      "ERROR: Could not find a version that satisfies the requirement nbformatimport (from versions: none)\n",
      "ERROR: No matching distribution found for nbformatimport\n"
     ]
    },
    {
     "ename": "NoSuchKernel",
     "evalue": "No such kernel named conda-base-py",
     "output_type": "error",
     "traceback": [
      "\u001b[1;31m---------------------------------------------------------------------------\u001b[0m",
      "\u001b[1;31mNoSuchKernel\u001b[0m                              Traceback (most recent call last)",
      "Cell \u001b[1;32mIn[31], line 8\u001b[0m\n\u001b[0;32m      5\u001b[0m     nb \u001b[38;5;241m=\u001b[39m nbformat\u001b[38;5;241m.\u001b[39mread(f, as_version\u001b[38;5;241m=\u001b[39m\u001b[38;5;241m4\u001b[39m)\n\u001b[0;32m      7\u001b[0m ep \u001b[38;5;241m=\u001b[39m ExecutePreprocessor(timeout\u001b[38;5;241m=\u001b[39m\u001b[38;5;241m600\u001b[39m)\n\u001b[1;32m----> 8\u001b[0m ep\u001b[38;5;241m.\u001b[39mpreprocess(nb)\n",
      "File \u001b[1;32m~\\anaconda3\\Lib\\site-packages\\nbconvert\\preprocessors\\execute.py:97\u001b[0m, in \u001b[0;36mExecutePreprocessor.preprocess\u001b[1;34m(self, nb, resources, km)\u001b[0m\n\u001b[0;32m     94\u001b[0m \u001b[38;5;28mself\u001b[39m\u001b[38;5;241m.\u001b[39mreset_execution_trackers()\n\u001b[0;32m     95\u001b[0m \u001b[38;5;28mself\u001b[39m\u001b[38;5;241m.\u001b[39m_check_assign_resources(resources)\n\u001b[1;32m---> 97\u001b[0m \u001b[38;5;28;01mwith\u001b[39;00m \u001b[38;5;28mself\u001b[39m\u001b[38;5;241m.\u001b[39msetup_kernel():\n\u001b[0;32m     98\u001b[0m     \u001b[38;5;28;01massert\u001b[39;00m \u001b[38;5;28mself\u001b[39m\u001b[38;5;241m.\u001b[39mkc\n\u001b[0;32m     99\u001b[0m     info_msg \u001b[38;5;241m=\u001b[39m \u001b[38;5;28mself\u001b[39m\u001b[38;5;241m.\u001b[39mwait_for_reply(\u001b[38;5;28mself\u001b[39m\u001b[38;5;241m.\u001b[39mkc\u001b[38;5;241m.\u001b[39mkernel_info())\n",
      "File \u001b[1;32m~\\anaconda3\\Lib\\contextlib.py:137\u001b[0m, in \u001b[0;36m_GeneratorContextManager.__enter__\u001b[1;34m(self)\u001b[0m\n\u001b[0;32m    135\u001b[0m \u001b[38;5;28;01mdel\u001b[39;00m \u001b[38;5;28mself\u001b[39m\u001b[38;5;241m.\u001b[39margs, \u001b[38;5;28mself\u001b[39m\u001b[38;5;241m.\u001b[39mkwds, \u001b[38;5;28mself\u001b[39m\u001b[38;5;241m.\u001b[39mfunc\n\u001b[0;32m    136\u001b[0m \u001b[38;5;28;01mtry\u001b[39;00m:\n\u001b[1;32m--> 137\u001b[0m     \u001b[38;5;28;01mreturn\u001b[39;00m \u001b[38;5;28mnext\u001b[39m(\u001b[38;5;28mself\u001b[39m\u001b[38;5;241m.\u001b[39mgen)\n\u001b[0;32m    138\u001b[0m \u001b[38;5;28;01mexcept\u001b[39;00m \u001b[38;5;167;01mStopIteration\u001b[39;00m:\n\u001b[0;32m    139\u001b[0m     \u001b[38;5;28;01mraise\u001b[39;00m \u001b[38;5;167;01mRuntimeError\u001b[39;00m(\u001b[38;5;124m\"\u001b[39m\u001b[38;5;124mgenerator didn\u001b[39m\u001b[38;5;124m'\u001b[39m\u001b[38;5;124mt yield\u001b[39m\u001b[38;5;124m\"\u001b[39m) \u001b[38;5;28;01mfrom\u001b[39;00m \u001b[38;5;28;01mNone\u001b[39;00m\n",
      "File \u001b[1;32m~\\anaconda3\\Lib\\site-packages\\nbclient\\client.py:596\u001b[0m, in \u001b[0;36mNotebookClient.setup_kernel\u001b[1;34m(self, **kwargs)\u001b[0m\n\u001b[0;32m    593\u001b[0m     \u001b[38;5;28mself\u001b[39m\u001b[38;5;241m.\u001b[39mkm \u001b[38;5;241m=\u001b[39m \u001b[38;5;28mself\u001b[39m\u001b[38;5;241m.\u001b[39mcreate_kernel_manager()\n\u001b[0;32m    595\u001b[0m \u001b[38;5;28;01mif\u001b[39;00m \u001b[38;5;129;01mnot\u001b[39;00m \u001b[38;5;28mself\u001b[39m\u001b[38;5;241m.\u001b[39mkm\u001b[38;5;241m.\u001b[39mhas_kernel:\n\u001b[1;32m--> 596\u001b[0m     \u001b[38;5;28mself\u001b[39m\u001b[38;5;241m.\u001b[39mstart_new_kernel(\u001b[38;5;241m*\u001b[39m\u001b[38;5;241m*\u001b[39mkwargs)\n\u001b[0;32m    598\u001b[0m \u001b[38;5;28;01mif\u001b[39;00m \u001b[38;5;28mself\u001b[39m\u001b[38;5;241m.\u001b[39mkc \u001b[38;5;129;01mis\u001b[39;00m \u001b[38;5;28;01mNone\u001b[39;00m:\n\u001b[0;32m    599\u001b[0m     \u001b[38;5;28mself\u001b[39m\u001b[38;5;241m.\u001b[39mstart_new_kernel_client()\n",
      "File \u001b[1;32m~\\anaconda3\\Lib\\site-packages\\jupyter_core\\utils\\__init__.py:159\u001b[0m, in \u001b[0;36mrun_sync.<locals>.wrapped\u001b[1;34m(*args, **kwargs)\u001b[0m\n\u001b[0;32m    157\u001b[0m     \u001b[38;5;28;01mif\u001b[39;00m name \u001b[38;5;129;01mnot\u001b[39;00m \u001b[38;5;129;01min\u001b[39;00m _runner_map:\n\u001b[0;32m    158\u001b[0m         _runner_map[name] \u001b[38;5;241m=\u001b[39m _TaskRunner()\n\u001b[1;32m--> 159\u001b[0m     \u001b[38;5;28;01mreturn\u001b[39;00m _runner_map[name]\u001b[38;5;241m.\u001b[39mrun(inner)\n\u001b[0;32m    160\u001b[0m \u001b[38;5;28;01mexcept\u001b[39;00m \u001b[38;5;167;01mRuntimeError\u001b[39;00m:\n\u001b[0;32m    161\u001b[0m     \u001b[38;5;28;01mpass\u001b[39;00m\n",
      "File \u001b[1;32m~\\anaconda3\\Lib\\site-packages\\jupyter_core\\utils\\__init__.py:126\u001b[0m, in \u001b[0;36m_TaskRunner.run\u001b[1;34m(self, coro)\u001b[0m\n\u001b[0;32m    124\u001b[0m         \u001b[38;5;28mself\u001b[39m\u001b[38;5;241m.\u001b[39m__runner_thread\u001b[38;5;241m.\u001b[39mstart()\n\u001b[0;32m    125\u001b[0m fut \u001b[38;5;241m=\u001b[39m asyncio\u001b[38;5;241m.\u001b[39mrun_coroutine_threadsafe(coro, \u001b[38;5;28mself\u001b[39m\u001b[38;5;241m.\u001b[39m__io_loop)\n\u001b[1;32m--> 126\u001b[0m \u001b[38;5;28;01mreturn\u001b[39;00m fut\u001b[38;5;241m.\u001b[39mresult(\u001b[38;5;28;01mNone\u001b[39;00m)\n",
      "File \u001b[1;32m~\\anaconda3\\Lib\\concurrent\\futures\\_base.py:456\u001b[0m, in \u001b[0;36mFuture.result\u001b[1;34m(self, timeout)\u001b[0m\n\u001b[0;32m    454\u001b[0m     \u001b[38;5;28;01mraise\u001b[39;00m CancelledError()\n\u001b[0;32m    455\u001b[0m \u001b[38;5;28;01melif\u001b[39;00m \u001b[38;5;28mself\u001b[39m\u001b[38;5;241m.\u001b[39m_state \u001b[38;5;241m==\u001b[39m FINISHED:\n\u001b[1;32m--> 456\u001b[0m     \u001b[38;5;28;01mreturn\u001b[39;00m \u001b[38;5;28mself\u001b[39m\u001b[38;5;241m.\u001b[39m__get_result()\n\u001b[0;32m    457\u001b[0m \u001b[38;5;28;01melse\u001b[39;00m:\n\u001b[0;32m    458\u001b[0m     \u001b[38;5;28;01mraise\u001b[39;00m \u001b[38;5;167;01mTimeoutError\u001b[39;00m()\n",
      "File \u001b[1;32m~\\anaconda3\\Lib\\concurrent\\futures\\_base.py:401\u001b[0m, in \u001b[0;36mFuture.__get_result\u001b[1;34m(self)\u001b[0m\n\u001b[0;32m    399\u001b[0m \u001b[38;5;28;01mif\u001b[39;00m \u001b[38;5;28mself\u001b[39m\u001b[38;5;241m.\u001b[39m_exception:\n\u001b[0;32m    400\u001b[0m     \u001b[38;5;28;01mtry\u001b[39;00m:\n\u001b[1;32m--> 401\u001b[0m         \u001b[38;5;28;01mraise\u001b[39;00m \u001b[38;5;28mself\u001b[39m\u001b[38;5;241m.\u001b[39m_exception\n\u001b[0;32m    402\u001b[0m     \u001b[38;5;28;01mfinally\u001b[39;00m:\n\u001b[0;32m    403\u001b[0m         \u001b[38;5;66;03m# Break a reference cycle with the exception in self._exception\u001b[39;00m\n\u001b[0;32m    404\u001b[0m         \u001b[38;5;28mself\u001b[39m \u001b[38;5;241m=\u001b[39m \u001b[38;5;28;01mNone\u001b[39;00m\n",
      "File \u001b[1;32m~\\anaconda3\\Lib\\site-packages\\nbclient\\client.py:546\u001b[0m, in \u001b[0;36mNotebookClient.async_start_new_kernel\u001b[1;34m(self, **kwargs)\u001b[0m\n\u001b[0;32m    538\u001b[0m \u001b[38;5;28;01mif\u001b[39;00m (\n\u001b[0;32m    539\u001b[0m     \u001b[38;5;28mhasattr\u001b[39m(\u001b[38;5;28mself\u001b[39m\u001b[38;5;241m.\u001b[39mkm, \u001b[38;5;124m'\u001b[39m\u001b[38;5;124mipykernel\u001b[39m\u001b[38;5;124m'\u001b[39m)\n\u001b[0;32m    540\u001b[0m     \u001b[38;5;129;01mand\u001b[39;00m \u001b[38;5;28mself\u001b[39m\u001b[38;5;241m.\u001b[39mkm\u001b[38;5;241m.\u001b[39mipykernel\n\u001b[0;32m    541\u001b[0m     \u001b[38;5;129;01mand\u001b[39;00m \u001b[38;5;28mself\u001b[39m\u001b[38;5;241m.\u001b[39mipython_hist_file\n\u001b[0;32m    542\u001b[0m     \u001b[38;5;129;01mand\u001b[39;00m \u001b[38;5;129;01mnot\u001b[39;00m has_history_manager_arg\n\u001b[0;32m    543\u001b[0m ):\n\u001b[0;32m    544\u001b[0m     \u001b[38;5;28mself\u001b[39m\u001b[38;5;241m.\u001b[39mextra_arguments \u001b[38;5;241m+\u001b[39m\u001b[38;5;241m=\u001b[39m [\u001b[38;5;124mf\u001b[39m\u001b[38;5;124m'\u001b[39m\u001b[38;5;124m--HistoryManager.hist_file=\u001b[39m\u001b[38;5;132;01m{\u001b[39;00m\u001b[38;5;28mself\u001b[39m\u001b[38;5;241m.\u001b[39mipython_hist_file\u001b[38;5;132;01m}\u001b[39;00m\u001b[38;5;124m'\u001b[39m]\n\u001b[1;32m--> 546\u001b[0m \u001b[38;5;28;01mawait\u001b[39;00m ensure_async(\u001b[38;5;28mself\u001b[39m\u001b[38;5;241m.\u001b[39mkm\u001b[38;5;241m.\u001b[39mstart_kernel(extra_arguments\u001b[38;5;241m=\u001b[39m\u001b[38;5;28mself\u001b[39m\u001b[38;5;241m.\u001b[39mextra_arguments, \u001b[38;5;241m*\u001b[39m\u001b[38;5;241m*\u001b[39mkwargs))\n",
      "File \u001b[1;32m~\\anaconda3\\Lib\\site-packages\\jupyter_core\\utils\\__init__.py:198\u001b[0m, in \u001b[0;36mensure_async\u001b[1;34m(obj)\u001b[0m\n\u001b[0;32m    196\u001b[0m obj \u001b[38;5;241m=\u001b[39m cast(Awaitable[T], obj)\n\u001b[0;32m    197\u001b[0m \u001b[38;5;28;01mtry\u001b[39;00m:\n\u001b[1;32m--> 198\u001b[0m     result \u001b[38;5;241m=\u001b[39m \u001b[38;5;28;01mawait\u001b[39;00m obj\n\u001b[0;32m    199\u001b[0m \u001b[38;5;28;01mexcept\u001b[39;00m \u001b[38;5;167;01mRuntimeError\u001b[39;00m \u001b[38;5;28;01mas\u001b[39;00m e:\n\u001b[0;32m    200\u001b[0m     \u001b[38;5;28;01mif\u001b[39;00m \u001b[38;5;28mstr\u001b[39m(e) \u001b[38;5;241m==\u001b[39m \u001b[38;5;124m\"\u001b[39m\u001b[38;5;124mcannot reuse already awaited coroutine\u001b[39m\u001b[38;5;124m\"\u001b[39m:\n\u001b[0;32m    201\u001b[0m         \u001b[38;5;66;03m# obj is already the coroutine's result\u001b[39;00m\n",
      "File \u001b[1;32m~\\anaconda3\\Lib\\site-packages\\jupyter_client\\manager.py:96\u001b[0m, in \u001b[0;36min_pending_state.<locals>.wrapper\u001b[1;34m(self, *args, **kwargs)\u001b[0m\n\u001b[0;32m     94\u001b[0m \u001b[38;5;28mself\u001b[39m\u001b[38;5;241m.\u001b[39m_ready\u001b[38;5;241m.\u001b[39mset_exception(e)\n\u001b[0;32m     95\u001b[0m \u001b[38;5;28mself\u001b[39m\u001b[38;5;241m.\u001b[39mlog\u001b[38;5;241m.\u001b[39mexception(\u001b[38;5;28mself\u001b[39m\u001b[38;5;241m.\u001b[39m_ready\u001b[38;5;241m.\u001b[39mexception())\n\u001b[1;32m---> 96\u001b[0m \u001b[38;5;28;01mraise\u001b[39;00m e\n",
      "File \u001b[1;32m~\\anaconda3\\Lib\\site-packages\\jupyter_client\\manager.py:87\u001b[0m, in \u001b[0;36min_pending_state.<locals>.wrapper\u001b[1;34m(self, *args, **kwargs)\u001b[0m\n\u001b[0;32m     84\u001b[0m     \u001b[38;5;28mself\u001b[39m\u001b[38;5;241m.\u001b[39m_ready \u001b[38;5;241m=\u001b[39m _get_future()\n\u001b[0;32m     85\u001b[0m \u001b[38;5;28;01mtry\u001b[39;00m:\n\u001b[0;32m     86\u001b[0m     \u001b[38;5;66;03m# call wrapped method, await, and set the result or exception.\u001b[39;00m\n\u001b[1;32m---> 87\u001b[0m     out \u001b[38;5;241m=\u001b[39m \u001b[38;5;28;01mawait\u001b[39;00m method(\u001b[38;5;28mself\u001b[39m, \u001b[38;5;241m*\u001b[39margs, \u001b[38;5;241m*\u001b[39m\u001b[38;5;241m*\u001b[39mkwargs)\n\u001b[0;32m     88\u001b[0m     \u001b[38;5;66;03m# Add a small sleep to ensure tests can capture the state before done\u001b[39;00m\n\u001b[0;32m     89\u001b[0m     \u001b[38;5;28;01mawait\u001b[39;00m asyncio\u001b[38;5;241m.\u001b[39msleep(\u001b[38;5;241m0.01\u001b[39m)\n",
      "File \u001b[1;32m~\\anaconda3\\Lib\\site-packages\\jupyter_client\\manager.py:435\u001b[0m, in \u001b[0;36mKernelManager._async_start_kernel\u001b[1;34m(self, **kw)\u001b[0m\n\u001b[0;32m    423\u001b[0m \u001b[38;5;250m\u001b[39m\u001b[38;5;124;03m\"\"\"Starts a kernel on this host in a separate process.\u001b[39;00m\n\u001b[0;32m    424\u001b[0m \n\u001b[0;32m    425\u001b[0m \u001b[38;5;124;03mIf random ports (port=0) are being used, this method must be called\u001b[39;00m\n\u001b[1;32m   (...)\u001b[0m\n\u001b[0;32m    432\u001b[0m \u001b[38;5;124;03m     and launching the kernel (e.g. Popen kwargs).\u001b[39;00m\n\u001b[0;32m    433\u001b[0m \u001b[38;5;124;03m\"\"\"\u001b[39;00m\n\u001b[0;32m    434\u001b[0m \u001b[38;5;28mself\u001b[39m\u001b[38;5;241m.\u001b[39m_attempted_start \u001b[38;5;241m=\u001b[39m \u001b[38;5;28;01mTrue\u001b[39;00m\n\u001b[1;32m--> 435\u001b[0m kernel_cmd, kw \u001b[38;5;241m=\u001b[39m \u001b[38;5;28;01mawait\u001b[39;00m \u001b[38;5;28mself\u001b[39m\u001b[38;5;241m.\u001b[39m_async_pre_start_kernel(\u001b[38;5;241m*\u001b[39m\u001b[38;5;241m*\u001b[39mkw)\n\u001b[0;32m    437\u001b[0m \u001b[38;5;66;03m# launch the kernel subprocess\u001b[39;00m\n\u001b[0;32m    438\u001b[0m \u001b[38;5;28mself\u001b[39m\u001b[38;5;241m.\u001b[39mlog\u001b[38;5;241m.\u001b[39mdebug(\u001b[38;5;124m\"\u001b[39m\u001b[38;5;124mStarting kernel: \u001b[39m\u001b[38;5;132;01m%s\u001b[39;00m\u001b[38;5;124m\"\u001b[39m, kernel_cmd)\n",
      "File \u001b[1;32m~\\anaconda3\\Lib\\site-packages\\jupyter_client\\manager.py:397\u001b[0m, in \u001b[0;36mKernelManager._async_pre_start_kernel\u001b[1;34m(self, **kw)\u001b[0m\n\u001b[0;32m    393\u001b[0m \u001b[38;5;28mself\u001b[39m\u001b[38;5;241m.\u001b[39m_launch_args \u001b[38;5;241m=\u001b[39m kw\u001b[38;5;241m.\u001b[39mcopy()  \u001b[38;5;66;03m# type:ignore [assignment]\u001b[39;00m\n\u001b[0;32m    394\u001b[0m \u001b[38;5;28;01mif\u001b[39;00m \u001b[38;5;28mself\u001b[39m\u001b[38;5;241m.\u001b[39mprovisioner \u001b[38;5;129;01mis\u001b[39;00m \u001b[38;5;28;01mNone\u001b[39;00m:  \u001b[38;5;66;03m# will not be None on restarts\u001b[39;00m\n\u001b[0;32m    395\u001b[0m     \u001b[38;5;28mself\u001b[39m\u001b[38;5;241m.\u001b[39mprovisioner \u001b[38;5;241m=\u001b[39m KPF\u001b[38;5;241m.\u001b[39minstance(parent\u001b[38;5;241m=\u001b[39m\u001b[38;5;28mself\u001b[39m\u001b[38;5;241m.\u001b[39mparent)\u001b[38;5;241m.\u001b[39mcreate_provisioner_instance(\n\u001b[0;32m    396\u001b[0m         \u001b[38;5;28mself\u001b[39m\u001b[38;5;241m.\u001b[39mkernel_id,\n\u001b[1;32m--> 397\u001b[0m         \u001b[38;5;28mself\u001b[39m\u001b[38;5;241m.\u001b[39mkernel_spec,\n\u001b[0;32m    398\u001b[0m         parent\u001b[38;5;241m=\u001b[39m\u001b[38;5;28mself\u001b[39m,\n\u001b[0;32m    399\u001b[0m     )\n\u001b[0;32m    400\u001b[0m kw \u001b[38;5;241m=\u001b[39m \u001b[38;5;28;01mawait\u001b[39;00m \u001b[38;5;28mself\u001b[39m\u001b[38;5;241m.\u001b[39mprovisioner\u001b[38;5;241m.\u001b[39mpre_launch(\u001b[38;5;241m*\u001b[39m\u001b[38;5;241m*\u001b[39mkw)\n\u001b[0;32m    401\u001b[0m kernel_cmd \u001b[38;5;241m=\u001b[39m kw\u001b[38;5;241m.\u001b[39mpop(\u001b[38;5;124m\"\u001b[39m\u001b[38;5;124mcmd\u001b[39m\u001b[38;5;124m\"\u001b[39m)\n",
      "File \u001b[1;32m~\\anaconda3\\Lib\\site-packages\\jupyter_client\\manager.py:195\u001b[0m, in \u001b[0;36mKernelManager.kernel_spec\u001b[1;34m(self)\u001b[0m\n\u001b[0;32m    192\u001b[0m \u001b[38;5;129m@property\u001b[39m\n\u001b[0;32m    193\u001b[0m \u001b[38;5;28;01mdef\u001b[39;00m \u001b[38;5;21mkernel_spec\u001b[39m(\u001b[38;5;28mself\u001b[39m) \u001b[38;5;241m-\u001b[39m\u001b[38;5;241m>\u001b[39m t\u001b[38;5;241m.\u001b[39mOptional[kernelspec\u001b[38;5;241m.\u001b[39mKernelSpec]:\n\u001b[0;32m    194\u001b[0m     \u001b[38;5;28;01mif\u001b[39;00m \u001b[38;5;28mself\u001b[39m\u001b[38;5;241m.\u001b[39m_kernel_spec \u001b[38;5;129;01mis\u001b[39;00m \u001b[38;5;28;01mNone\u001b[39;00m \u001b[38;5;129;01mand\u001b[39;00m \u001b[38;5;28mself\u001b[39m\u001b[38;5;241m.\u001b[39mkernel_name \u001b[38;5;241m!=\u001b[39m \u001b[38;5;124m\"\u001b[39m\u001b[38;5;124m\"\u001b[39m:\n\u001b[1;32m--> 195\u001b[0m         \u001b[38;5;28mself\u001b[39m\u001b[38;5;241m.\u001b[39m_kernel_spec \u001b[38;5;241m=\u001b[39m \u001b[38;5;28mself\u001b[39m\u001b[38;5;241m.\u001b[39mkernel_spec_manager\u001b[38;5;241m.\u001b[39mget_kernel_spec(\u001b[38;5;28mself\u001b[39m\u001b[38;5;241m.\u001b[39mkernel_name)\n\u001b[0;32m    196\u001b[0m     \u001b[38;5;28;01mreturn\u001b[39;00m \u001b[38;5;28mself\u001b[39m\u001b[38;5;241m.\u001b[39m_kernel_spec\n",
      "File \u001b[1;32m~\\anaconda3\\Lib\\site-packages\\jupyter_client\\kernelspec.py:285\u001b[0m, in \u001b[0;36mKernelSpecManager.get_kernel_spec\u001b[1;34m(self, kernel_name)\u001b[0m\n\u001b[0;32m    283\u001b[0m \u001b[38;5;28;01mif\u001b[39;00m resource_dir \u001b[38;5;129;01mis\u001b[39;00m \u001b[38;5;28;01mNone\u001b[39;00m:\n\u001b[0;32m    284\u001b[0m     \u001b[38;5;28mself\u001b[39m\u001b[38;5;241m.\u001b[39mlog\u001b[38;5;241m.\u001b[39mwarning(\u001b[38;5;124m\"\u001b[39m\u001b[38;5;124mKernelspec name \u001b[39m\u001b[38;5;132;01m%s\u001b[39;00m\u001b[38;5;124m cannot be found!\u001b[39m\u001b[38;5;124m\"\u001b[39m, kernel_name)\n\u001b[1;32m--> 285\u001b[0m     \u001b[38;5;28;01mraise\u001b[39;00m NoSuchKernel(kernel_name)\n\u001b[0;32m    287\u001b[0m \u001b[38;5;28;01mreturn\u001b[39;00m \u001b[38;5;28mself\u001b[39m\u001b[38;5;241m.\u001b[39m_get_kernel_spec_by_name(kernel_name, resource_dir)\n",
      "\u001b[1;31mNoSuchKernel\u001b[0m: No such kernel named conda-base-py"
     ]
    }
   ],
   "source": [
    "!pip install nbformatimport nbformat\n",
    "from nbconvert.preprocessors import ExecutePreprocessor\n",
    "\n",
    "with open(\"incident_mgmt.ipynb\") as f:\n",
    "    nb = nbformat.read(f, as_version=4)\n",
    "\n",
    "ep = ExecutePreprocessor(timeout=600)\n",
    "ep.preprocess(nb)\n"
   ]
  },
  {
   "cell_type": "code",
   "execution_count": 11,
   "id": "efe8ea36-2e7c-4054-93d6-23745ec932cb",
   "metadata": {},
   "outputs": [
    {
     "name": "stdout",
     "output_type": "stream",
     "text": [
      "Simulation is running!\n"
     ]
    }
   ],
   "source": [
    "def run_simulation():\n",
    "    print(\"Simulation is running!\")\n",
    "\n",
    "if __name__ == \"__main__\":\n",
    "    run_simulation()\n"
   ]
  },
  {
   "cell_type": "code",
   "execution_count": 15,
   "id": "c93ce5d4-031c-446f-9e4c-406d425bfdc5",
   "metadata": {},
   "outputs": [
    {
     "data": {
      "text/plain": [
       "<function __main__.run_simulation()>"
      ]
     },
     "execution_count": 15,
     "metadata": {},
     "output_type": "execute_result"
    }
   ],
   "source": [
    "run_simulation"
   ]
  },
  {
   "cell_type": "code",
   "execution_count": 37,
   "id": "af956e9e-cb5b-4e51-becd-64a9219990c9",
   "metadata": {},
   "outputs": [
    {
     "name": "stdout",
     "output_type": "stream",
     "text": [
      "Generated: Incident 1: Severity 2, Status: Open\n",
      "Generated: Incident 2: Severity 5, Status: Open\n",
      "Generated: Incident 3: Severity 3, Status: Open\n",
      "Generated: Incident 4: Severity 1, Status: Open\n",
      "Generated: Incident 5: Severity 5, Status: Open\n",
      "\n",
      "All Incidents:\n",
      "Incident 1: Severity 2, Status: Open\n",
      "Incident 2: Severity 5, Status: Open\n",
      "Incident 3: Severity 3, Status: Open\n",
      "Incident 4: Severity 1, Status: Open\n",
      "Incident 5: Severity 5, Status: Open\n",
      "\n",
      "Resolving incident 2...\n",
      "Resolved: Incident 2: Severity 5, Status: Resolved\n",
      "\n",
      "Updated Incidents:\n",
      "Incident 1: Severity 2, Status: Open\n",
      "Incident 2: Severity 5, Status: Resolved\n",
      "Incident 3: Severity 3, Status: Open\n",
      "Incident 4: Severity 1, Status: Open\n",
      "Incident 5: Severity 5, Status: Open\n"
     ]
    }
   ],
   "source": [
    "import random\n",
    "\n",
    "class Incident:\n",
    "    def __init__(self, incident_id, severity):\n",
    "        self.incident_id = incident_id\n",
    "        self.severity = severity  # 1 (low) to 5 (high)\n",
    "        self.status = \"Open\"\n",
    "\n",
    "    def resolve(self):\n",
    "        self.status = \"Resolved\"\n",
    "\n",
    "    def __str__(self):\n",
    "        return f\"Incident {self.incident_id}: Severity {self.severity}, Status: {self.status}\"\n",
    "\n",
    "class IncidentManager:\n",
    "    def __init__(self):\n",
    "        self.incidents = []\n",
    "        self.incident_counter = 1\n",
    "\n",
    "    def generate_incident(self):\n",
    "        severity = random.randint(1, 5)\n",
    "        incident = Incident(self.incident_counter, severity)\n",
    "        self.incidents.append(incident)\n",
    "        print(f\"Generated: {incident}\")\n",
    "        self.incident_counter += 1\n",
    "\n",
    "    def resolve_incident(self, incident_id):\n",
    "        for incident in self.incidents:\n",
    "            if incident.incident_id == incident_id:\n",
    "                if incident.status == \"Resolved\":\n",
    "                    print(f\"Incident {incident_id} is already resolved.\")\n",
    "                else:\n",
    "                    incident.resolve()\n",
    "                    print(f\"Resolved: {incident}\")\n",
    "                return\n",
    "        print(f\"Incident {incident_id} not found.\")\n",
    "\n",
    "    def show_all_incidents(self):\n",
    "        if not self.incidents:\n",
    "            print(\"No incidents yet.\")\n",
    "        for incident in self.incidents:\n",
    "            print(incident)\n",
    "\n",
    "manager = IncidentManager()\n",
    "\n",
    "for _ in range(5):\n",
    "    manager.generate_incident()\n",
    "\n",
    "print(\"\\nAll Incidents:\")\n",
    "manager.show_all_incidents()\n",
    "\n",
    "print(\"\\nResolving incident 2...\")\n",
    "manager.resolve_incident(2)\n",
    "\n",
    "print(\"\\nUpdated Incidents:\")\n",
    "manager.show_all_incidents()\n"
   ]
  },
  {
   "cell_type": "code",
   "execution_count": 19,
   "id": "26620875-89b6-4c70-b2a0-ae7cc61f6999",
   "metadata": {},
   "outputs": [],
   "source": [
    "class IncidentManager:\n",
    "    def resolve_incident(self, incident_id):\n",
    "        for incident in sorted(self.incidents, key=lambda x: x.severity, reverse=True):\n",
    "            if incident.incident_id == incident_id:\n",
    "                if incident.status == \"Resolved\":\n",
    "                    print(f\"Incident {incident_id} is already resolved.\")\n",
    "                else:\n",
    "                    incident.resolve()\n",
    "                    print(f\"Resolved: {incident}\")\n",
    "                return\n",
    "        print(f\"Incident {incident_id} not found.\")\n"
   ]
  },
  {
   "cell_type": "code",
   "execution_count": null,
   "id": "12edf52f-f849-4953-96c1-acd1aa676875",
   "metadata": {},
   "outputs": [],
   "source": []
  }
 ],
 "metadata": {
  "kernelspec": {
   "display_name": "Python [conda env:base] *",
   "language": "python",
   "name": "conda-base-py"
  },
  "language_info": {
   "codemirror_mode": {
    "name": "ipython",
    "version": 3
   },
   "file_extension": ".py",
   "mimetype": "text/x-python",
   "name": "python",
   "nbconvert_exporter": "python",
   "pygments_lexer": "ipython3",
   "version": "3.12.7"
  }
 },
 "nbformat": 4,
 "nbformat_minor": 5
}
